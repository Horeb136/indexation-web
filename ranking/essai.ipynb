{
 "cells": [
  {
   "cell_type": "code",
   "execution_count": 6,
   "metadata": {},
   "outputs": [
    {
     "name": "stdout",
     "output_type": "stream",
     "text": [
      "{'positions': [41], 'count': 1}\n"
     ]
    }
   ],
   "source": [
    "import json\n",
    "import re\n",
    "\n",
    "with open('content_pos_index.json', 'r') as f:\n",
    "        file = json.load(f)\n",
    "\n",
    "print(file[\"jeu\"].get(\"13\"))"
   ]
  },
  {
   "cell_type": "code",
   "execution_count": 5,
   "metadata": {},
   "outputs": [
    {
     "name": "stdout",
     "output_type": "stream",
     "text": [
      "1\n"
     ]
    }
   ],
   "source": [
    "print(file[\"jeu\"].get(\"13\")[\"count\"])"
   ]
  },
  {
   "cell_type": "code",
   "execution_count": 15,
   "metadata": {},
   "outputs": [
    {
     "name": "stdout",
     "output_type": "stream",
     "text": [
      "['les', 'jeux', 'olympiques']\n",
      "les\n",
      "[]\n",
      "jeux\n",
      "[8]\n",
      "olympiques\n"
     ]
    }
   ],
   "source": [
    "text = \"Les jeux olympiques\"\n",
    "tokens = re.findall(r'\\b\\w+\\b', text.lower())\n",
    "document_id = '10'\n",
    "print(tokens)\n",
    "counts = []\n",
    "for token in tokens:\n",
    "    print(token)\n",
    "    if token in file:\n",
    "        token_keys = file[token].keys()\n",
    "        if document_id in token_keys:\n",
    "            print(counts)\n",
    "            counts.append(file[token][document_id][\"count\"])"
   ]
  }
 ],
 "metadata": {
  "kernelspec": {
   "display_name": ".indexweb-venv",
   "language": "python",
   "name": "python3"
  },
  "language_info": {
   "codemirror_mode": {
    "name": "ipython",
    "version": 3
   },
   "file_extension": ".py",
   "mimetype": "text/x-python",
   "name": "python",
   "nbconvert_exporter": "python",
   "pygments_lexer": "ipython3",
   "version": "3.8.10"
  }
 },
 "nbformat": 4,
 "nbformat_minor": 2
}
