{
 "cells": [
  {
   "cell_type": "code",
   "execution_count": 1,
   "metadata": {},
   "outputs": [
    {
     "name": "stdout",
     "output_type": "stream",
     "text": [
      "Requirement already satisfied: beautifulsoup4 in /home/ensai/.local/lib/python3.8/site-packages (4.12.2)\n",
      "Requirement already satisfied: soupsieve>1.2 in /home/ensai/.local/lib/python3.8/site-packages (from beautifulsoup4) (2.5)\n",
      "Requirement already satisfied: requests in /home/ensai/.local/lib/python3.8/site-packages (2.31.0)\n",
      "Requirement already satisfied: urllib3<3,>=1.21.1 in /usr/lib/python3/dist-packages (from requests) (1.25.8)\n",
      "Requirement already satisfied: charset-normalizer<4,>=2 in /home/ensai/.local/lib/python3.8/site-packages (from requests) (3.3.2)\n",
      "Requirement already satisfied: idna<4,>=2.5 in /usr/lib/python3/dist-packages (from requests) (2.8)\n",
      "Requirement already satisfied: certifi>=2017.4.17 in /usr/lib/python3/dist-packages (from requests) (2019.11.28)\n"
     ]
    }
   ],
   "source": [
    "!pip install beautifulsoup4\n",
    "!pip install requests"
   ]
  },
  {
   "cell_type": "code",
   "execution_count": 9,
   "metadata": {},
   "outputs": [],
   "source": [
    "import requests\n",
    "import xml.etree.ElementTree as ET"
   ]
  },
  {
   "cell_type": "code",
   "execution_count": null,
   "metadata": {},
   "outputs": [],
   "source": [
    "sitemap_url = url + \"/sitemap.xml\"\n",
    "        try : \n",
    "            response = requests.get(sitemap_url)\n",
    "            if response.status_code == 200 : \n",
    "                root = ET.fromstring(response.text)\n",
    "                urls = [loc.text for loc in root.findall(\".//{http://www.sitemaps.org/schemas/sitemap/0.9}loc\")]\n",
    "                print(f\"Found {len(urls)} URLs in sitemap\")\n",
    "                return urls\n",
    "        except Exception as e :\n",
    "            print(f\"Error reading sitemap from {sitemap_url}: {e}\")\n",
    "            return []"
   ]
  },
  {
   "cell_type": "code",
   "execution_count": 11,
   "metadata": {},
   "outputs": [
    {
     "name": "stdout",
     "output_type": "stream",
     "text": [
      "['https://ensai.fr/post-sitemap.xml', 'https://ensai.fr/page-sitemap.xml', 'https://ensai.fr/partenaire-sitemap.xml', 'https://ensai.fr/equipe-sitemap.xml', 'https://ensai.fr/faq-sitemap.xml', 'https://ensai.fr/colloque-sitemap.xml', 'https://ensai.fr/category-sitemap.xml']\n"
     ]
    }
   ],
   "source": [
    "url = \"https://ensai.fr/\"\n",
    "sitemap_url = url + \"sitemap.xml\"\n",
    "response = requests.get(sitemap_url)\n",
    "if response.status_code == 200:\n",
    "    root = ET.fromstring(response.content)\n",
    "    urls = [loc.text for loc in root.findall(\".//{http://www.sitemaps.org/schemas/sitemap/0.9}loc\")]\n",
    "    print(urls)"
   ]
  }
 ],
 "metadata": {
  "kernelspec": {
   "display_name": "Python 3",
   "language": "python",
   "name": "python3"
  },
  "language_info": {
   "codemirror_mode": {
    "name": "ipython",
    "version": 3
   },
   "file_extension": ".py",
   "mimetype": "text/x-python",
   "name": "python",
   "nbconvert_exporter": "python",
   "pygments_lexer": "ipython3",
   "version": "3.8.10"
  }
 },
 "nbformat": 4,
 "nbformat_minor": 2
}
